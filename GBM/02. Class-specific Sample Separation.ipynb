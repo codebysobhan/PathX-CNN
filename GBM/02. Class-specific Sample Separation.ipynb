{
 "cells": [
  {
   "cell_type": "code",
   "execution_count": 7,
   "id": "ad64a631",
   "metadata": {},
   "outputs": [],
   "source": [
    "import pandas as pd\n",
    "import os"
   ]
  },
  {
   "cell_type": "code",
   "execution_count": 12,
   "id": "c1fbb4bc",
   "metadata": {},
   "outputs": [],
   "source": [
    "# reading omics data\n",
    "cnv= pd.read_csv(\"01. Data Collection/CNV_commonSamples.csv\")\n",
    "exp= pd.read_csv(\"01. Data Collection/EXP_commonSamples.csv\")\n",
    "met= pd.read_csv(\"01. Data Collection/MET_commonSamples.csv\")"
   ]
  },
  {
   "cell_type": "code",
   "execution_count": null,
   "id": "13e36b14",
   "metadata": {},
   "outputs": [],
   "source": []
  },
  {
   "cell_type": "code",
   "execution_count": null,
   "id": "f928c536",
   "metadata": {},
   "outputs": [],
   "source": [
    "subtypes= [0, 1] # 0: non-lts; 1: lts\n",
    "omics= ['CNV', 'EXP', 'MET', 'MUT']"
   ]
  },
  {
   "cell_type": "code",
   "execution_count": 13,
   "id": "aad16ab7",
   "metadata": {},
   "outputs": [],
   "source": [
    "for i in subtypes:\n",
    "    cnv_sub= cnv[cnv['class']==i]\n",
    "    cnv_sub.to_csv(\"02. Class-specific Sample/CNV_\"+str(i) +\".csv\")\n",
    "    \n",
    "    exp_sub= exp[exp['class']==i]\n",
    "    exp_sub.to_csv(\"02. Class-specific Sample/EXP_\"+str(i) +\".csv\")\n",
    "    \n",
    "    met_sub= met[met['class']==i]\n",
    "    met_sub.to_csv(\"02. Class-specific Sample/MET_\"+str(i) +\".csv\")\n"
   ]
  },
  {
   "cell_type": "code",
   "execution_count": 20,
   "id": "78a360b4",
   "metadata": {},
   "outputs": [],
   "source": [
    "subtypes= [0, 1] # 0: non-lts; 1: lts\n",
    "omics= ['CNV', 'EXP', 'MET']"
   ]
  },
  {
   "cell_type": "code",
   "execution_count": 21,
   "id": "2a123e55",
   "metadata": {},
   "outputs": [
    {
     "name": "stdout",
     "output_type": "stream",
     "text": [
      "0 CNV:(234, 8047)\n",
      "0 EXP:(234, 8047)\n",
      "0 MET:(234, 8047)\n",
      "1 CNV:(55, 8047)\n",
      "1 EXP:(55, 8047)\n",
      "1 MET:(55, 8047)\n"
     ]
    }
   ],
   "source": [
    "for i in subtypes:\n",
    "    for j in omics:\n",
    "        subtypes= pd.read_csv(\"02. Class-specific Sample/\"+j+\"_\"+ str(i) +\".csv\")\n",
    "        print(str(i) + \" \" + j+ \":\"+ str(subtypes.shape))\n",
    " "
   ]
  },
  {
   "cell_type": "code",
   "execution_count": null,
   "id": "4f087ae5",
   "metadata": {},
   "outputs": [],
   "source": []
  },
  {
   "cell_type": "code",
   "execution_count": null,
   "id": "754817e7",
   "metadata": {},
   "outputs": [],
   "source": []
  }
 ],
 "metadata": {
  "kernelspec": {
   "display_name": "Python 3 (ipykernel)",
   "language": "python",
   "name": "python3"
  },
  "language_info": {
   "codemirror_mode": {
    "name": "ipython",
    "version": 3
   },
   "file_extension": ".py",
   "mimetype": "text/x-python",
   "name": "python",
   "nbconvert_exporter": "python",
   "pygments_lexer": "ipython3",
   "version": "3.12.4"
  }
 },
 "nbformat": 4,
 "nbformat_minor": 5
}
